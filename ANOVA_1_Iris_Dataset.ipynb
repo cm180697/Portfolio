{
  "nbformat": 4,
  "nbformat_minor": 0,
  "metadata": {
    "colab": {
      "provenance": [],
      "authorship_tag": "ABX9TyM6kCmR+Uw2PjpL6vSr61aM",
      "include_colab_link": true
    },
    "kernelspec": {
      "name": "python3",
      "display_name": "Python 3"
    },
    "language_info": {
      "name": "python"
    }
  },
  "cells": [
    {
      "cell_type": "markdown",
      "metadata": {
        "id": "view-in-github",
        "colab_type": "text"
      },
      "source": [
        "<a href=\"https://colab.research.google.com/github/cm180697/Portfolio/blob/main/ANOVA_1_Iris_Dataset.ipynb\" target=\"_parent\"><img src=\"https://colab.research.google.com/assets/colab-badge.svg\" alt=\"Open In Colab\"/></a>"
      ]
    },
    {
      "cell_type": "code",
      "source": [
        "import pandas as pd\n",
        "import scipy.stats as stats\n",
        "\n",
        "# Load the Iris dataset into a pandas dataframe\n",
        "data = pd.read_csv('iris.csv')\n",
        "\n",
        "# Subset the data to only include sepal width and species\n",
        "subset_data = data[['sepal_width', 'species']]\n",
        "\n",
        "# Check for normality within each group using the Shapiro-Wilk test\n",
        "print(\"Normality test using Shapiro-Wilk test:\")\n",
        "for species in set(subset_data['species']):\n",
        "    statistic, pvalue = stats.shapiro(subset_data[subset_data['species']==species]['sepal_width'])\n",
        "    normality = \"Normal\" if pvalue >= 0.05 else \"Non-normal\"\n",
        "    print(f'{species}:\\n\\tShapiro-Wilk test statistic = {statistic:.3f}, p-value = {pvalue:.3f} ({normality})')\n",
        "\n",
        "# Check for equality of variances using Levene's test\n",
        "test_statistic, p_value = stats.levene(*[subset_data[subset_data['species']==species]['sepal_width'] for species in set(subset_data['species'])])\n",
        "variance = \"Equal\" if p_value >= 0.05 else \"Unequal\"\n",
        "print(f'\\nLevene\\'s test:\\n\\ttest statistic = {test_statistic:.3f}, p-value = {p_value:.3f} ({variance} variances)')\n",
        "\n",
        "# Perform one-way ANOVA\n",
        "f_statistic, p_value = stats.f_oneway(*[subset_data[subset_data['species']==species]['sepal_width'] for species in set(subset_data['species'])])\n",
        "print(f'\\nOne-way ANOVA:\\n\\tF-statistic = {f_statistic:.3f}, p-value = {p_value:.3f}')\n"
      ],
      "metadata": {
        "colab": {
          "base_uri": "https://localhost:8080/"
        },
        "id": "VxLXJHeKK_zv",
        "outputId": "3d8ff1aa-cfd6-4e80-c533-5d47ececf384"
      },
      "execution_count": 21,
      "outputs": [
        {
          "output_type": "stream",
          "name": "stdout",
          "text": [
            "Normality test using Shapiro-Wilk test:\n",
            "versicolor:\n",
            "\tShapiro-Wilk test statistic = 0.974, p-value = 0.338 (Normal)\n",
            "setosa:\n",
            "\tShapiro-Wilk test statistic = 0.969, p-value = 0.205 (Normal)\n",
            "virginica:\n",
            "\tShapiro-Wilk test statistic = 0.967, p-value = 0.181 (Normal)\n",
            "\n",
            "Levene's test:\n",
            "\ttest statistic = 0.648, p-value = 0.525 (Equal variances)\n",
            "\n",
            "One-way ANOVA:\n",
            "\tF-statistic = 47.364, p-value = 0.000\n"
          ]
        }
      ]
    },
    {
      "cell_type": "code",
      "source": [
        "import matplotlib.pyplot as plt\n",
        "\n",
        "# Calculate the means and standard deviations for each group\n",
        "means = data.groupby('species')['sepal_width'].mean()\n",
        "stds = data.groupby('species')['sepal_width'].std()\n",
        "\n",
        "# Create a bar plot of the means with error bars showing +/- 1 standard deviation\n",
        "fig, ax = plt.subplots()\n",
        "means.plot.bar(yerr=stds, ax=ax)\n",
        "\n",
        "# Add axis labels and a title\n",
        "ax.set_xlabel('Species')\n",
        "ax.set_ylabel('Sepal Width')\n",
        "ax.set_title('Mean Sepal Width by Species')\n"
      ],
      "metadata": {
        "colab": {
          "base_uri": "https://localhost:8080/",
          "height": 351
        },
        "id": "QJ-Nruege3QK",
        "outputId": "0f82546d-a98c-493c-c315-426148f50eec"
      },
      "execution_count": 22,
      "outputs": [
        {
          "output_type": "execute_result",
          "data": {
            "text/plain": [
              "Text(0.5, 1.0, 'Mean Sepal Width by Species')"
            ]
          },
          "metadata": {},
          "execution_count": 22
        },
        {
          "output_type": "display_data",
          "data": {
            "text/plain": [
              "<Figure size 432x288 with 1 Axes>"
            ],
            "image/png": "[encoded data removed]"
          },
          "metadata": {
            "needs_background": "light"
          }
        }
      ]
    },
    {
      "cell_type": "code",
      "source": [
        "import seaborn as sns\n",
        "\n",
        "sns.boxplot(x='species', y='sepal_width', data=data)\n"
      ],
      "metadata": {
        "colab": {
          "base_uri": "https://localhost:8080/",
          "height": 299
        },
        "id": "u8X5oFhtiUm_",
        "outputId": "f7e8871b-e46f-4775-da6c-739619377254"
      },
      "execution_count": 25,
      "outputs": [
        {
          "output_type": "execute_result",
          "data": {
            "text/plain": [
              "<AxesSubplot:xlabel='species', ylabel='sepal_width'>"
            ]
          },
          "metadata": {},
          "execution_count": 25
        },
        {
          "output_type": "display_data",
          "data": {
            "text/plain": [
              "<Figure size 432x288 with 1 Axes>"
            ],
            "image/png": "[encoded data removed]"
          },
          "metadata": {
            "needs_background": "light"
          }
        }
      ]
    },
    {
      "cell_type": "code",
      "source": [
        "import statsmodels.stats.multicomp as mc\n",
        "\n",
        "# Perform Tukey's HSD test\n",
        "tukey_results = mc.pairwise_tukeyhsd(endog=data['sepal_width'], groups=data['species'], alpha=0.05)\n",
        "\n",
        "# Print the results\n",
        "print(tukey_results)\n"
      ],
      "metadata": {
        "colab": {
          "base_uri": "https://localhost:8080/"
        },
        "id": "vy51umCMia_P",
        "outputId": "3ba28a9a-89a1-414e-8b9a-d02b8356ae70"
      },
      "execution_count": 23,
      "outputs": [
        {
          "output_type": "stream",
          "name": "stdout",
          "text": [
            "    Multiple Comparison of Means - Tukey HSD, FWER=0.05     \n",
            "============================================================\n",
            "  group1     group2   meandiff p-adj   lower   upper  reject\n",
            "------------------------------------------------------------\n",
            "    setosa versicolor   -0.648  0.001 -0.8092 -0.4868   True\n",
            "    setosa  virginica   -0.444  0.001 -0.6052 -0.2828   True\n",
            "versicolor  virginica    0.204 0.0089  0.0428  0.3652   True\n",
            "------------------------------------------------------------\n"
          ]
        }
      ]
    },
    {
      "cell_type": "code",
      "source": [
        "# Calculate effect size\n",
        "mean_diff = data.groupby('species')['sepal_width'].mean().diff().abs().iloc[-1]\n",
        "pooled_std = data.groupby('species')['sepal_width'].apply(pd.Series.std, ddof=1).mean()\n",
        "effect_size = mean_diff / pooled_std\n",
        "\n",
        "print(f\"\\nEffect size (Cohen's d): {effect_size:.3f}\")\n"
      ],
      "metadata": {
        "colab": {
          "base_uri": "https://localhost:8080/"
        },
        "id": "TSDlI3rTjBJZ",
        "outputId": "ef7a0163-e3bc-48aa-f1c7-28584f32ef96"
      },
      "execution_count": 28,
      "outputs": [
        {
          "output_type": "stream",
          "name": "stdout",
          "text": [
            "\n",
            "Effect size (Cohen's d): 0.602\n"
          ]
        }
      ]
    },
    {
      "cell_type": "code",
      "source": [],
      "metadata": {
        "id": "cijlP2X9jREY"
      },
      "execution_count": null,
      "outputs": []
    }
  ]
}